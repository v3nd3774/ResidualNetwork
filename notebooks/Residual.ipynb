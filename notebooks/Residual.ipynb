{
 "cells": [
  {
   "cell_type": "code",
   "execution_count": 1,
   "metadata": {},
   "outputs": [
    {
     "name": "stdout",
     "output_type": "stream",
     "text": [
      "Files already downloaded and verified\n",
      "Files already downloaded and verified\n"
     ]
    }
   ],
   "source": [
    "import torch\n",
    "import torchvision\n",
    "import torchvision.transforms as transforms\n",
    "import os\n",
    "transform = transforms.Compose([\n",
    "    transforms.ToTensor(),\n",
    "    transforms.Normalize((0.5, 0.5, 0.5),(0.5,0.5,0.5))\n",
    "])\n",
    "common_kwargs_set = {\n",
    "    \"root\":os.path.abspath('.').split(os.path.sep)[0]+os.path.sep+\"cifardata\",\n",
    "    \"transform\":transform,\n",
    "    \"download\":True}\n",
    "common_kwargs_loader = {\"batch_size\":128,\n",
    "                        \"num_workers\":4}\n",
    "trainset = torchvision.datasets.CIFAR10(train=True, **common_kwargs_set)\n",
    "trainloader = torch.utils.data.DataLoader(trainset, shuffle=True, **common_kwargs_loader)\n",
    "def push_to_gpu(dataloader):\n",
    "    for data_batch in dataloader:\n",
    "        for tensor in data_batch:\n",
    "            tensor = tensor.to(\"cuda\", non_blocking=True)\n",
    "\n",
    "holdoutset = torchvision.datasets.CIFAR10(train=False, **common_kwargs_set)\n",
    "holdoutloader = torch.utils.data.DataLoader(holdoutset, shuffle=False, **common_kwargs_loader)\n",
    "\n",
    "if torch.cuda.is_available():\n",
    "    push_to_gpu(trainloader)\n",
    "    push_to_gpu(holdoutloader)\n",
    "\n",
    "classes = (\"plane\", \"car\", \"bird\", \"cat\", \"deer\", \"dog\", \"frog\", \"horse\", \"ship\", \"truck\")"
   ]
  },
  {
   "cell_type": "code",
   "execution_count": 2,
   "metadata": {},
   "outputs": [
    {
     "name": "stdout",
     "output_type": "stream",
     "text": [
      "Cuda avail: True\n"
     ]
    }
   ],
   "source": [
    "print(f\"Cuda avail: {torch.cuda.is_available()}\")"
   ]
  },
  {
   "cell_type": "code",
   "execution_count": null,
   "metadata": {},
   "outputs": [],
   "source": [
    "%matplotlib inline\n",
    "import matplotlib.pyplot as plt\n",
    "import numpy as np\n",
    "def imshow(img):\n",
    "    img = img / 2 + 0.5\n",
    "    npimg = img.numpy()\n",
    "    plt.imshow(np.transpose(npimg, (1,2,0)))\n",
    "    plt.show()\n",
    "dataiter = iter(trainloader)\n",
    "images, labels = dataiter.next()\n",
    "images, labels = images[:4], labels[:4]\n",
    "print(\" \".join(\"%5s\" % classes[labels[j]] for j in range(4)))\n",
    "imshow(torchvision.utils.make_grid(images))"
   ]
  },
  {
   "cell_type": "code",
   "execution_count": null,
   "metadata": {},
   "outputs": [],
   "source": [
    "from boilerplate import Net, ResNet, evaluate_network_opt\n",
    "perf_rnn, rnn = evaluate_network_opt(\n",
    "    trainloader, holdoutloader, ResNet, step_size=480,epochs_desired=123)"
   ]
  },
  {
   "cell_type": "code",
   "execution_count": null,
   "metadata": {},
   "outputs": [],
   "source": [
    "perf_nonrnn, nonrnn = evaluate_network_opt(\n",
    "    trainloader, holdoutloader, Net, step_size=480,epochs_desired=123)"
   ]
  },
  {
   "cell_type": "code",
   "execution_count": null,
   "metadata": {},
   "outputs": [],
   "source": [
    "filtered = [list(filter(lambda x: x[1], perf_nonrnn.items())),\n",
    "            list(filter(lambda x: x[1], perf_rnn.items()))]\n",
    "import matplotlib.colors as colors\n",
    "import random\n",
    "random_colors = enumerate(random.sample(colors.get_named_colors_mapping().keys(), 10))\n",
    "from matplotlib.pyplot import figure\n",
    "def set_figsize(plots):\n",
    "    fig, axs = plt.subplots(plots, 1, constrained_layout=True)\n",
    "    fig.set_size_inches(11*plots, 8.5*plots)\n",
    "    fig.dpi=80\n",
    "    fig.facecolor=\"w\"\n",
    "    fig.edgecolor=\"k\"\n",
    "    return fig, axs\n",
    "fig, axs = set_figsize(2)\n",
    "for idx, title in enumerate([\"Unmodified NN\", \"RNN (Custom Impl)\"], 0):\n",
    "    axs[idx].set_title(title)\n",
    "for idx in range(2):\n",
    "    axs[idx].set_xlabel(f\"No. of {trainloader.batch_size} sample batches trained on\")\n",
    "    axs[idx].set_ylabel(f\"AUC on holdout data\")\n",
    "colors = {idx:c for idx, c in random_colors}\n",
    "for label in range(0, 10):\n",
    "    for idx in range(2):\n",
    "        axs[idx].plot(list(map(lambda d: d[0], filtered[idx])), # x\n",
    "                      list(map(lambda d: d[1][label], filtered[idx])), # auc for label\n",
    "                      colors[label],\n",
    "                      label=classes[label])\n",
    "for idx in range(2):\n",
    "    axs[idx].legend()\n",
    "images_dir = os.path.join(os.path.dirname(os.getcwd()), os.path.sep, \"images\")\n",
    "fig.savefig(os.path.join(images_dir, \"comparison.png\"))\n",
    "plt.show()"
   ]
  }
 ],
 "metadata": {
  "kernelspec": {
   "display_name": "Python 3",
   "language": "python",
   "name": "python3"
  },
  "language_info": {
   "codemirror_mode": {
    "name": "ipython",
    "version": 3
   },
   "file_extension": ".py",
   "mimetype": "text/x-python",
   "name": "python",
   "nbconvert_exporter": "python",
   "pygments_lexer": "ipython3",
   "version": "3.7.5"
  }
 },
 "nbformat": 4,
 "nbformat_minor": 2
}
